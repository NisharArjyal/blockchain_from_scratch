{
 "cells": [
  {
   "cell_type": "markdown",
   "id": "8fa462fb",
   "metadata": {},
   "source": [
    "#### This is header 1"
   ]
  },
  {
   "cell_type": "code",
   "execution_count": 94,
   "id": "3ab9cb9c",
   "metadata": {},
   "outputs": [],
   "source": [
    "laist = []\n",
    "## this was a list\n",
    "ratings = ['A', 'B', 'C']"
   ]
  },
  {
   "cell_type": "code",
   "execution_count": 8,
   "id": "a354feab",
   "metadata": {},
   "outputs": [
    {
     "data": {
      "text/plain": [
       "[1, 2, 3, 4]"
      ]
     },
     "metadata": {},
     "output_type": "display_data"
    }
   ],
   "source": [
    "display(ratings)"
   ]
  },
  {
   "cell_type": "code",
   "execution_count": 95,
   "id": "87d4c472",
   "metadata": {},
   "outputs": [
    {
     "data": {
      "text/plain": [
       "[]"
      ]
     },
     "metadata": {},
     "output_type": "display_data"
    }
   ],
   "source": [
    "display(laist)\n",
    "ratings = [1,2,3,4,0]"
   ]
  },
  {
   "cell_type": "code",
   "execution_count": 16,
   "id": "c96b727d",
   "metadata": {},
   "outputs": [
    {
     "name": "stdout",
     "output_type": "stream",
     "text": [
      "4\n"
     ]
    }
   ],
   "source": [
    "print(len(ratings))"
   ]
  },
  {
   "cell_type": "code",
   "execution_count": 17,
   "id": "e4f0cfb4",
   "metadata": {},
   "outputs": [],
   "source": [
    "def mean_of_list(a):\n",
    "    return sum(a)/len(a)\n",
    "\n"
   ]
  },
  {
   "cell_type": "code",
   "execution_count": 20,
   "id": "f8817e8f",
   "metadata": {},
   "outputs": [
    {
     "data": {
      "text/plain": [
       "2.0"
      ]
     },
     "execution_count": 20,
     "metadata": {},
     "output_type": "execute_result"
    }
   ],
   "source": [
    "mean_of_list(ratings)"
   ]
  },
  {
   "cell_type": "markdown",
   "id": "77554bda",
   "metadata": {},
   "source": [
    "### The basics of [design patterns](https://python-patterns.guide/) in python: \n"
   ]
  },
  {
   "cell_type": "code",
   "execution_count": 64,
   "id": "7aaf76dd",
   "metadata": {},
   "outputs": [
    {
     "name": "stdout",
     "output_type": "stream",
     "text": [
      "5\n",
      "Cat\n",
      "Basics\\ of\\ Python\\ .ipynb  Manifest.toml  Project.toml\n",
      "0\n",
      "Not None\n",
      "None\n",
      "starting\n",
      "None\n",
      "Android Version\n",
      "None\n"
     ]
    }
   ],
   "source": [
    "from os import system\n",
    "class Animal:\n",
    "    def __init__(self,name,age):\n",
    "        self.name=name\n",
    "        self.age=age\n",
    "        \n",
    "    def getage(self):\n",
    "        return self.age\n",
    "    \n",
    "    def getname(self):\n",
    "        return self.name\n",
    "           \n",
    "    def bark(self):\n",
    "        print('Bark Howl Howl')\n",
    "        \n",
    "c = Animal(\"Cat\", 5)\n",
    "print(c.getage())\n",
    "print(c.getname())      \n",
    "print(system(\"dir\"))\n",
    "\n",
    "from time import sleep\n",
    "sleep(2)\n",
    "\n",
    "## inheritance: \n",
    "\n",
    "class App:\n",
    "    def start(self):\n",
    "        print('starting')\n",
    "        \n",
    "    def get_version(self):\n",
    "        print('Not None')\n",
    "\n",
    "class Android(App):\n",
    "    def get_version(self):\n",
    "        print('Android Version')\n",
    "\n",
    "a = App() \n",
    "print(a.get_version())\n",
    "app = Android()\n",
    "print(app.start() )\n",
    "print(app.get_version())"
   ]
  },
  {
   "cell_type": "markdown",
   "id": "6946db94",
   "metadata": {},
   "source": [
    "#### Composition over inheritance: \n",
    "\n",
    "for: \n",
    "\n",
    "1. escape from oop and do object based programming\n",
    "\n",
    "**Problem** :\n",
    "\n",
    "Subclass Explosion: \n",
    "\n",
    "\n",
    "\n"
   ]
  },
  {
   "cell_type": "code",
   "execution_count": 74,
   "id": "00a415a5",
   "metadata": {},
   "outputs": [],
   "source": [
    "import sys\n",
    "import syslog \n",
    " \n",
    "class Logger(object):   # what is this object doing over here?\n",
    "    def __init__(self, file):\n",
    "        self.file = file\n",
    "        \n",
    "    def log(self, message):\n",
    "        self.file.write(message + '\\n')\n",
    "        self.file.flush()\n",
    "        \n",
    "# two classes that inherit\n",
    "class SocketLogger(Logger):\n",
    "    def __init__(self, sock):\n",
    "        self.sock = sock\n",
    "    \n",
    "    def log(self, message):\n",
    "        self.sock.sendall((message+'\\n').encode('ascii'))\n",
    "  \n",
    "class SysLogLogger(Logger):\n",
    "    def __init__(self, priority):\n",
    "        self.priority = priority\n",
    "        \n",
    "    def log(self, message):\n",
    "        syslog.syslog(self.priority, message)\n",
    "        \n",
    "# what if i want a filter loggger now? \n",
    "# well i also need filter socket and filter syslog loggers \n",
    "# subclass explosion problem\n",
    "\n",
    "# can use the adaptor pattern\n",
    "\n",
    "# but better to use the decorator design pattern \n",
    "\n",
    "\n",
    "# the following code is directly copied for future reference\n",
    "class FileLogger:\n",
    "    def __init__(self, file):\n",
    "        self.file = file\n",
    "\n",
    "    def log(self, message):\n",
    "        self.file.write(message + '\\n')\n",
    "        self.file.flush()\n",
    "\n",
    "class SocketLogger:\n",
    "    def __init__(self, sock):\n",
    "        self.sock = sock\n",
    "\n",
    "    def log(self, message):\n",
    "        self.sock.sendall((message + '\\n').encode('ascii'))\n",
    "\n",
    "class SyslogLogger:\n",
    "    def __init__(self, priority):\n",
    "        self.priority = priority\n",
    "\n",
    "    def log(self, message):\n",
    "        syslog.syslog(self.priority, message)\n",
    "\n",
    "# The filter calls the same method it offers.\n",
    "\n",
    "class LogFilter:\n",
    "    def __init__(self, pattern, logger):\n",
    "        self.pattern = pattern\n",
    "        self.logger = logger\n",
    "\n",
    "    def log(self, message):\n",
    "        if self.pattern in message:\n",
    "            self.logger.log(message)"
   ]
  },
  {
   "cell_type": "markdown",
   "id": "23bb726f",
   "metadata": {},
   "source": [
    "### The global object pattern: \n",
    "\n",
    "every module =  separate namespace\n",
    "\n",
    "constant pattern: \n",
    "\n",
    "example : \n",
    "\n",
    "COPY_BUFSIZE = 1024 * 1024 if _WINDOWS else 16 * 1024\n"
   ]
  },
  {
   "cell_type": "code",
   "execution_count": 77,
   "id": "8dd3154f",
   "metadata": {},
   "outputs": [
    {
     "name": "stdout",
     "output_type": "stream",
     "text": [
      "<class 'function'>\n"
     ]
    }
   ],
   "source": [
    "import types\n",
    "def returnname(name):\n",
    "    string(name)\n",
    "\n",
    "print(type(returnname))\n"
   ]
  },
  {
   "cell_type": "markdown",
   "id": "2a4b5e81",
   "metadata": {},
   "source": [
    "### Sentinel Object Pattern: \n",
    "\n",
    "This pattern uses python's built in None object but whenever None might be a useful value, a unique sentinel object() can be used to indicate a missing or unspecified value. \n",
    "\n",
    "traditional sentinel value pattern from : \n",
    "\n",
    "str.find() method while str.index() is more rigorous, raising exception if it can't find the substring you're asking to look for. \n",
    "\n",
    "try: \n",
    "    i = a.index(b)\n",
    "except: \n",
    "    return \n",
    "\n",
    "i = a.find(b)\n",
    "if i == -1:\n",
    "    return "
   ]
  },
  {
   "cell_type": "markdown",
   "id": "880d3f67",
   "metadata": {},
   "source": [
    "### Null pattern: \n",
    "\n",
    "nullpointer pattern is almost impossible in python, but there's diffnce betn python and languages that complicate data model with nil or NULL pointers\n",
    "\n",
    "every name refers to an object or does not exist or exists. \n",
    "\n",
    "each name = pointer that stores address of object to which it currently refers. even if the name points to something as simple as None object, it will contain a valid address. \n",
    "\n",
    "pointers that might be null ought to be checked before use \n",
    "\n",
    "but this is the null pointer, \n",
    "\n",
    "let's focus on the null pattern : \n",
    "\n",
    "None is a special kind of sentinel object : \n",
    "\n",
    "First: a general data store cannot use None for missing data. \n",
    "\n",
    "python's functools.lru_cache() uses the sentinel object pattern internally. \n",
    "\n",
    "\n"
   ]
  },
  {
   "cell_type": "markdown",
   "id": "7e71bb63",
   "metadata": {},
   "source": [
    "### Abstract Factory: \n",
    "\n",
    "awkward workaround for lack of first class functions and classes in less powerful Proglang.\n",
    "\n",
    "poor fit for python. \n",
    "\n",
    "instead simply pass a class or a factory function when a library needs to create objects on our behalf. \n",
    "\n",
    "### Pythonic callable factories:\n",
    "\n",
    "A callable = any object **_f_** that exectes code when invoked using the syntax f(a,b,c)-- is a first class object. being first-class = can be passed as a parameter to fns, returned as return value, and can even be stored in data structures like a list or dictionary. \n",
    "\n",
    "\n",
    "**raise** keyword:\n",
    "has two purposes : \n",
    "\n",
    "```\n",
    "if something:\n",
    "    raise Exception(\"My error!\")\n",
    "```\n",
    "\n",
    "and second : \n",
    "\n",
    "reraise the _current exception_ in an exception handler, so that it can be  handled further up the call stack\n",
    "\n",
    "```\n",
    "try:\n",
    "    generate_exception()\n",
    "except SomeException as e: \n",
    "    if not can_handle(e):\n",
    "        raise \n",
    "    handle_exception(e) \n",
    "\n",
    "```\n",
    "\n"
   ]
  },
  {
   "cell_type": "code",
   "execution_count": 92,
   "id": "4c586138",
   "metadata": {},
   "outputs": [
    {
     "data": {
      "text/plain": [
       "499500"
      ]
     },
     "metadata": {},
     "output_type": "display_data"
    }
   ],
   "source": [
    "def first_n(n):\n",
    "    '''Build and return a list'''\n",
    "    num, nums = 0, []\n",
    "    while num < n: \n",
    "        nums.append(num)\n",
    "        num+=1\n",
    "    return nums\n",
    "\n",
    "sum_of_first_n = sum(first_n(1000))\n",
    "display(sum_of_first_n)"
   ]
  },
  {
   "cell_type": "markdown",
   "id": "15725de1",
   "metadata": {},
   "source": [
    "### lambdas in python\n",
    "\n",
    "use when u need fn for short time, e.g. as arguement of a higher order function like map or filter. \n",
    "\n",
    "syntax: lambda args: expression "
   ]
  },
  {
   "cell_type": "code",
   "execution_count": 1,
   "id": "b99019a7",
   "metadata": {},
   "outputs": [
    {
     "name": "stdout",
     "output_type": "stream",
     "text": [
      "[2, 4, 6, 8, 10, 12]\n"
     ]
    }
   ],
   "source": [
    "my_list = [1,2,3,4,5,6]\n",
    "new_list = list(map(lambda x: x*2, my_list))\n",
    "print(new_list)"
   ]
  },
  {
   "cell_type": "markdown",
   "id": "e7a687e0",
   "metadata": {},
   "source": [
    "### Generators for performance: \n",
    "\n",
    "basically lazily evaluate stuff: \n",
    "\n",
    "1. sum_of_first_n = sum(range(100))\n",
    "\n",
    "\n",
    "while\n",
    "\n",
    "2. sum_of_first_n_xrange = sum(xrange(100)) \n",
    "\n",
    "first case, builds array of 100 elements, wasteful\n",
    "\n",
    "xrange does it lazily, basically consumes value to the accumulator at each iteration.\n",
    "\n",
    "list comprehension : "
   ]
  },
  {
   "cell_type": "code",
   "execution_count": 10,
   "id": "610cad10",
   "metadata": {},
   "outputs": [
    {
     "name": "stdout",
     "output_type": "stream",
     "text": [
      "[0, 2, 4, 6, 8, 10, 12, 14, 16, 18]\n",
      "[0, 2, 4, 6, 8, 10, 12, 14, 16, 18]\n",
      "<class 'list'>\n",
      "<class 'list'>\n"
     ]
    }
   ],
   "source": [
    "doubles = [2*n for n in range(10)]\n",
    "\n",
    "adoubles = list(2*n for n in range(10))\n",
    "print(doubles)\n",
    "print(adoubles)\n",
    "print(type(doubles))\n",
    "print(type(adoubles))"
   ]
  },
  {
   "cell_type": "code",
   "execution_count": 11,
   "id": "4bea2ef6",
   "metadata": {},
   "outputs": [],
   "source": [
    "from decimal import Decimal \n",
    "\n",
    "def build_decimal(string):\n",
    "    return Decimal(string)"
   ]
  },
  {
   "cell_type": "markdown",
   "id": "64c5c325",
   "metadata": {},
   "source": [
    "What if python didn't let passing callables as parameters? \n",
    "\n",
    "just move the function into a static class method and you're good to go."
   ]
  },
  {
   "cell_type": "code",
   "execution_count": 14,
   "id": "ed8dcea5",
   "metadata": {},
   "outputs": [],
   "source": [
    "# this code is copied directly from the web \n",
    "# In Python: a factory function.\n",
    "\n",
    "def build_decimal(string):\n",
    "    return Decimal(string.lstrip('$'))\n",
    "\n",
    "# In some legacy languages: the code must\n",
    "# move inside a class method instead.\n",
    "\n",
    "class DecimalFactory(object):\n",
    "    @staticmethod\n",
    "    def build(string):\n",
    "        return Decimal(string.lstrip('$'))"
   ]
  },
  {
   "cell_type": "markdown",
   "id": "d8186f52",
   "metadata": {},
   "source": [
    "What if we also outlawed passing classes? \n",
    "\n",
    "Now, we can't pass DecimalFactory so, we are needed to uselessly instantiate the DecimalFactory first before passing. \n",
    "\n",
    "## Abstract Classes: \n",
    "\n",
    "from abc import ABC, abstractmethod"
   ]
  },
  {
   "cell_type": "code",
   "execution_count": 25,
   "id": "d729811b",
   "metadata": {},
   "outputs": [
    {
     "name": "stdout",
     "output_type": "stream",
     "text": [
      "My jet is flying\n"
     ]
    }
   ],
   "source": [
    "from abc import ABCMeta, abstractmethod\n",
    "\n",
    "class Aircraft(metaclass=ABCMqeta):\n",
    "    \n",
    "    @abstractmethod # this is a decorator, it modifies a function \n",
    "    def fly(self):\n",
    "        pass\n",
    "# decorator takes a function and makes it something else. \n",
    "# can't do the following \n",
    "\n",
    "# aircraft1 = Aircraft()\n",
    "\n",
    "#imagine: \n",
    "\n",
    "#class Jet(Aircraft):\n",
    "#  pass\n",
    "\n",
    "#also can't instantiate Jet. need to provide an impl of fly method for Jet\n",
    "\n",
    "class Jet(Aircraft):\n",
    "    def fly(self):\n",
    "        print(\"My jet is flying\")\n",
    "        \n",
    "j = Jet()\n",
    "j.fly()"
   ]
  },
  {
   "cell_type": "markdown",
   "id": "4bbfec09",
   "metadata": {},
   "source": [
    "How to implement abstract properties in python : \n",
    "\n",
    "Define a property method using the property decorator and then use the setter decorator for that property to use as a setter.\n"
   ]
  },
  {
   "cell_type": "code",
   "execution_count": 26,
   "id": "30e1763d",
   "metadata": {},
   "outputs": [],
   "source": [
    "class MyClass: \n",
    "    @property\n",
    "    def speed(self):\n",
    "        return self.__speed\n",
    "    @speed.setter \n",
    "    def speed(self, value):\n",
    "        self.__speed = value"
   ]
  },
  {
   "cell_type": "code",
   "execution_count": 28,
   "id": "8bd87bbc",
   "metadata": {},
   "outputs": [],
   "source": [
    "class Aircraft(metaclass = ABCMeta):\n",
    "    @abstractmethod\n",
    "    def __init__(self, speed):\n",
    "        self.__speed = speed\n",
    "    \n",
    "    @property \n",
    "    @abstractmethod \n",
    "    def speed(self):\n",
    "        pass\n",
    "    \n",
    "    @speed.setter \n",
    "    @abstractmethod\n",
    "    def speed(self):\n",
    "        pass\n",
    "    \n",
    "    @speed.setter \n",
    "    @abstractmethod\n",
    "    def speed(self, value):\n",
    "        pass\n",
    "    \n",
    "    @abstractmethod\n",
    "    def fly(self):\n",
    "        pass\n",
    "\n",
    "    @abstractmethod\n",
    "    def land(self):\n",
    "        print(\"All checks completed\")"
   ]
  },
  {
   "cell_type": "code",
   "execution_count": null,
   "id": "ef5f19be",
   "metadata": {},
   "outputs": [],
   "source": []
  }
 ],
 "metadata": {
  "kernelspec": {
   "display_name": "Python 3 (ipykernel)",
   "language": "python",
   "name": "python3"
  },
  "language_info": {
   "codemirror_mode": {
    "name": "ipython",
    "version": 3
   },
   "file_extension": ".py",
   "mimetype": "text/x-python",
   "name": "python",
   "nbconvert_exporter": "python",
   "pygments_lexer": "ipython3",
   "version": "3.9.5"
  }
 },
 "nbformat": 4,
 "nbformat_minor": 5
}
